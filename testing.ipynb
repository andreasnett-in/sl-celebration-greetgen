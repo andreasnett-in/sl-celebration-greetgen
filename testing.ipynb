{
 "cells": [
  {
   "cell_type": "code",
   "execution_count": 10,
   "metadata": {},
   "outputs": [],
   "source": [
    "from fastapi import FastAPI, Request, Form  \n",
    "from fastapi.templating import Jinja2Templates  \n",
    "import csv  \n",
    "from datetime import datetime  \n",
    "import uvicorn\n",
    "import csv  \n",
    "from datetime import datetime\n",
    "import pandas as pd"
   ]
  },
  {
   "cell_type": "code",
   "execution_count": 35,
   "metadata": {},
   "outputs": [],
   "source": [
    "df = pd.read_csv(file_path, sep=';')"
   ]
  },
  {
   "cell_type": "code",
   "execution_count": 36,
   "metadata": {},
   "outputs": [],
   "source": [
    "df['dato'] = pd.to_datetime(df['dato'], format='%d.%m.').apply(lambda x: x.strftime('%d/%m'))"
   ]
  },
  {
   "cell_type": "code",
   "execution_count": 37,
   "metadata": {},
   "outputs": [],
   "source": [
    "df.to_csv('merkedager.csv', index=False, sep=';', encoding='utf-8-sig')"
   ]
  },
  {
   "cell_type": "code",
   "execution_count": 41,
   "metadata": {},
   "outputs": [],
   "source": [
    "def lookup_merkeday(csv_file_path):\n",
    "    today = datetime.today().strftime('%d/%m')\n",
    "    merkedag = []  \n",
    "    with open(csv_file_path, newline='', encoding='utf-8-sig') as csvfile:  \n",
    "        reader = csv.DictReader(csvfile, delimiter=';')  \n",
    "        for row in reader: \n",
    "            if row['dato'] == today:  \n",
    "                merkedag.append((row['merkedag'])) \n",
    "        return merkedag if len(merkedag) > 0 else None"
   ]
  },
  {
   "cell_type": "code",
   "execution_count": 34,
   "metadata": {},
   "outputs": [],
   "source": [
    "file_path = 'DAGER_TSCP.csv'"
   ]
  },
  {
   "cell_type": "code",
   "execution_count": 39,
   "metadata": {},
   "outputs": [],
   "source": [
    "file_path = 'merkedager.csv'"
   ]
  },
  {
   "cell_type": "code",
   "execution_count": null,
   "metadata": {},
   "outputs": [],
   "source": [
    "with open(file_path, newline='', encoding='utf-8-sig') as csvfile:  \n",
    "        reader = csv.DictReader(csvfile, delimiter=';')\n",
    "        for row in reader:\n",
    "            print(row)"
   ]
  },
  {
   "cell_type": "code",
   "execution_count": null,
   "metadata": {},
   "outputs": [],
   "source": [
    "for row in reader:\n",
    "    print(row)"
   ]
  },
  {
   "cell_type": "code",
   "execution_count": 42,
   "metadata": {},
   "outputs": [
    {
     "data": {
      "text/plain": [
       "['Innovasjon Norges første hackathon']"
      ]
     },
     "execution_count": 42,
     "metadata": {},
     "output_type": "execute_result"
    }
   ],
   "source": [
    "lookup_merkeday(file_path)"
   ]
  }
 ],
 "metadata": {
  "kernelspec": {
   "display_name": "exploration310",
   "language": "python",
   "name": "exploration310"
  },
  "language_info": {
   "codemirror_mode": {
    "name": "ipython",
    "version": 3
   },
   "file_extension": ".py",
   "mimetype": "text/x-python",
   "name": "python",
   "nbconvert_exporter": "python",
   "pygments_lexer": "ipython3",
   "version": "3.10.11"
  },
  "orig_nbformat": 4
 },
 "nbformat": 4,
 "nbformat_minor": 2
}
